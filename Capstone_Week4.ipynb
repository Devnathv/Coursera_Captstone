{
 "cells": [
  {
   "cell_type": "markdown",
   "metadata": {},
   "source": [
    "# Problem Description\n",
    "Wake county located in North Carolina is one of the fastest growing counties in the USA large influx of immigrants from other states and nationalities calling it their home.\n",
    "The highly educated workforce with a good mix of young and middle aged population drives the economy of the state and opens up tremendous  possibilities for new businesses to thrive.North carolina has been influenced greatly by settlers from New England and Hispanic immigrants.North carolinais also famou\n",
    "s for its barbecue and bacon but other cuisines are starting to becoming popular.\n",
    "This opens up a possibility to create a recommender system for anyone who wants to open a new restaurant that can be successful in the area based on the information\n",
    "1. Demographics and Income\n",
    "2. Existing restaurants density in the area(To identify any untapped market)\n",
    "3. Types of restaurants based on cuisines\n",
    "4. Existing Restaurant quality based on reviews and food inspections\n",
    "5. Farmer's Market around the various neighbourhood\n",
    "\n",
    "\n",
    "## Recommendation Success Criteria\n",
    "We will determine the success of the recommender system by providing potential locations it can be set up for maximum success"
   ]
  },
  {
   "cell_type": "code",
   "execution_count": null,
   "metadata": {},
   "outputs": [],
   "source": []
  }
 ],
 "metadata": {
  "kernelspec": {
   "display_name": "Python 3",
   "language": "python",
   "name": "python3"
  },
  "language_info": {
   "codemirror_mode": {
    "name": "ipython",
    "version": 3
   },
   "file_extension": ".py",
   "mimetype": "text/x-python",
   "name": "python",
   "nbconvert_exporter": "python",
   "pygments_lexer": "ipython3",
   "version": "3.7.1"
  }
 },
 "nbformat": 4,
 "nbformat_minor": 2
}
