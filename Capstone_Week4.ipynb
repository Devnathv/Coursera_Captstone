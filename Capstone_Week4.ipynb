{
 "cells": [
  {
   "cell_type": "markdown",
   "metadata": {},
   "source": [
    "# Problem Description\n",
    "Wake county located in North Carolina is one of the fastest growing counties in the USA large influx of immigrants from other states and nationalities calling it their home.\n",
    "The highly educated workforce with a good mix of young and middle aged population drives the economy of the state and opens up tremendous  possibilities for new businesses to thrive.North carolina has been influenced greatly by settlers from New England and Hispanic immigrants.North carolinais also famous for its barbecue and bacon but other cuisines are starting to becoming popular.\n",
    "This opens up a possibility to create a recommender system for anyone who wants to open a new restaurant that can be successful in the area based on the information\n",
    "1. Demographics and Income\n",
    "2. Existing restaurants density in the area(To identify any untapped market)\n",
    "3. Types of restaurants based on cuisines\n",
    "4. Existing Restaurant quality based on reviews and food inspections\n",
    "5. Farmer's Market around the various neighbourhood\n",
    "\n",
    "Wake county has 12 Towns and  46 Communities and for this work we will obtain the following datasets from https://data-wake.opendata.arcgis.com/datasets\n",
    "1. Wake county restaurants Datasets(csv)\n",
    "2. Wake county food inspections datasets(csv)\n",
    "3. Wake county demographic information(csv)\n",
    "4. Farmers Market http://www.wakegov.com/humanservices/publichealth/information/promotion/Pages/farmersmarkets.aspx\n",
    "The data from the above datasets will be read via pandas dataframe and cleaned up to classify Restaurants to Townships and and quality index score.Then we will be able to cluster the restaurants in the area and as well as correlate the quality of restaurants again based on cuisine to the neighbourhood which would potentially provide us insights on the type of restaurant that can be setup. We will be using Foursquare api to obtain restaurant reviews in the locality to do additional correlation that will strengthen the model.We will finally demonstrate the efficacy with vuisualisation plots and graphs that will aid in the final decision\n",
    "\n",
    "## Recommendation Success Criteria\n",
    "We will determine the success of the recommender system by providing potential locations it can be set up for maximum success"
   ]
  },
  {
   "cell_type": "markdown",
   "metadata": {},
   "source": [
    "### Import relevant libraries\n"
   ]
  },
  {
   "cell_type": "code",
   "execution_count": 6,
   "metadata": {},
   "outputs": [],
   "source": [
    "import pandas as pd\n",
    "import numpy as np\n",
    "import matplotlib as mlt\n",
    "from bs4 import BeautifulSoup\n",
    "import requests\n"
   ]
  },
  {
   "cell_type": "markdown",
   "metadata": {},
   "source": [
    "### Raleigh Demographic Distribution"
   ]
  },
  {
   "cell_type": "code",
   "execution_count": 54,
   "metadata": {},
   "outputs": [],
   "source": [
    "website_url=requests.get('https://en.wikipedia.org/wiki/Raleigh,_North_Carolina').text\n",
    "soup=BeautifulSoup(website_url,'lxml')\n",
    "DemoTable=soup.find_all('table')[3]\n",
    "dfRal_demo=pd.DataFrame(columns=['Race','Year=2010','Year=1990','Year=1970','Year=1950'],index=[1])\n",
    "rows=DemoTable.find_all('tr')\n",
    "l = []\n",
    "for tr in rows:\n",
    "    td = tr.find_all('td')\n",
    "    row = [tr.text.strip() for tr in td]\n",
    "    l.append(row)\n",
    "dfRal_demo=pd.DataFrame(l, columns=['Race','Year=2010','Year=1990','Year=1970','Year=1950'])"
   ]
  },
  {
   "cell_type": "code",
   "execution_count": 55,
   "metadata": {},
   "outputs": [
    {
     "data": {
      "text/html": [
       "<div>\n",
       "<style scoped>\n",
       "    .dataframe tbody tr th:only-of-type {\n",
       "        vertical-align: middle;\n",
       "    }\n",
       "\n",
       "    .dataframe tbody tr th {\n",
       "        vertical-align: top;\n",
       "    }\n",
       "\n",
       "    .dataframe thead th {\n",
       "        text-align: right;\n",
       "    }\n",
       "</style>\n",
       "<table border=\"1\" class=\"dataframe\">\n",
       "  <thead>\n",
       "    <tr style=\"text-align: right;\">\n",
       "      <th></th>\n",
       "      <th>Race</th>\n",
       "      <th>Year=2010</th>\n",
       "      <th>Year=1990</th>\n",
       "      <th>Year=1970</th>\n",
       "      <th>Year=1950</th>\n",
       "    </tr>\n",
       "  </thead>\n",
       "  <tbody>\n",
       "    <tr>\n",
       "      <th>1</th>\n",
       "      <td>White</td>\n",
       "      <td>57.5%</td>\n",
       "      <td>69.2%</td>\n",
       "      <td>76.6%</td>\n",
       "      <td>72.7%</td>\n",
       "    </tr>\n",
       "    <tr>\n",
       "      <th>2</th>\n",
       "      <td>—Non-Hispanic whites</td>\n",
       "      <td>53.3%</td>\n",
       "      <td>68.4%</td>\n",
       "      <td>76.4%</td>\n",
       "      <td>n/a</td>\n",
       "    </tr>\n",
       "    <tr>\n",
       "      <th>3</th>\n",
       "      <td>Black or African American</td>\n",
       "      <td>29.3%</td>\n",
       "      <td>27.6%</td>\n",
       "      <td>22.7%</td>\n",
       "      <td>27.2%</td>\n",
       "    </tr>\n",
       "    <tr>\n",
       "      <th>4</th>\n",
       "      <td>Hispanic or Latino (of any race)</td>\n",
       "      <td>11.4%</td>\n",
       "      <td>1.4%</td>\n",
       "      <td>0.6%</td>\n",
       "      <td>n/a</td>\n",
       "    </tr>\n",
       "    <tr>\n",
       "      <th>5</th>\n",
       "      <td>Asian</td>\n",
       "      <td>4.3%</td>\n",
       "      <td>2.5%</td>\n",
       "      <td>0.3%</td>\n",
       "      <td>0.1%</td>\n",
       "    </tr>\n",
       "  </tbody>\n",
       "</table>\n",
       "</div>"
      ],
      "text/plain": [
       "                               Race Year=2010 Year=1990 Year=1970 Year=1950\n",
       "1                             White     57.5%     69.2%     76.6%     72.7%\n",
       "2              —Non-Hispanic whites     53.3%     68.4%     76.4%       n/a\n",
       "3         Black or African American     29.3%     27.6%     22.7%     27.2%\n",
       "4  Hispanic or Latino (of any race)     11.4%      1.4%      0.6%       n/a\n",
       "5                             Asian      4.3%      2.5%      0.3%      0.1%"
      ]
     },
     "execution_count": 55,
     "metadata": {},
     "output_type": "execute_result"
    }
   ],
   "source": [
    "dfRal_demo.drop(0)"
   ]
  },
  {
   "cell_type": "markdown",
   "metadata": {},
   "source": [
    "### Durham Demographic Distribution"
   ]
  },
  {
   "cell_type": "code",
   "execution_count": 64,
   "metadata": {},
   "outputs": [],
   "source": [
    "durham_demo=pd.read_csv(\"C:\\Python3\\Coursera_Captstone\\Durham_Demographic.csv\")"
   ]
  },
  {
   "cell_type": "code",
   "execution_count": 65,
   "metadata": {},
   "outputs": [
    {
     "data": {
      "text/html": [
       "<div>\n",
       "<style scoped>\n",
       "    .dataframe tbody tr th:only-of-type {\n",
       "        vertical-align: middle;\n",
       "    }\n",
       "\n",
       "    .dataframe tbody tr th {\n",
       "        vertical-align: top;\n",
       "    }\n",
       "\n",
       "    .dataframe thead th {\n",
       "        text-align: right;\n",
       "    }\n",
       "</style>\n",
       "<table border=\"1\" class=\"dataframe\">\n",
       "  <thead>\n",
       "    <tr style=\"text-align: right;\">\n",
       "      <th></th>\n",
       "      <th>Year=2010</th>\n",
       "      <th>Race</th>\n",
       "    </tr>\n",
       "  </thead>\n",
       "  <tbody>\n",
       "    <tr>\n",
       "      <th>0</th>\n",
       "      <td>42.45%</td>\n",
       "      <td>White</td>\n",
       "    </tr>\n",
       "    <tr>\n",
       "      <th>1</th>\n",
       "      <td>37.9%</td>\n",
       "      <td>Non-Hispanic White</td>\n",
       "    </tr>\n",
       "    <tr>\n",
       "      <th>2</th>\n",
       "      <td>40.96%</td>\n",
       "      <td>Black or African American</td>\n",
       "    </tr>\n",
       "    <tr>\n",
       "      <th>3</th>\n",
       "      <td>5.07%</td>\n",
       "      <td>Asian American</td>\n",
       "    </tr>\n",
       "    <tr>\n",
       "      <th>4</th>\n",
       "      <td>0.51%</td>\n",
       "      <td>Native American</td>\n",
       "    </tr>\n",
       "    <tr>\n",
       "      <th>5</th>\n",
       "      <td>0.07%</td>\n",
       "      <td>Native Hawaiian or Other Pacific Islander</td>\n",
       "    </tr>\n",
       "    <tr>\n",
       "      <th>6</th>\n",
       "      <td>8.28%</td>\n",
       "      <td>some other race</td>\n",
       "    </tr>\n",
       "    <tr>\n",
       "      <th>7</th>\n",
       "      <td>2.66%</td>\n",
       "      <td>two or more races</td>\n",
       "    </tr>\n",
       "    <tr>\n",
       "      <th>8</th>\n",
       "      <td>14.22%</td>\n",
       "      <td>Hispanic or Latino of any race</td>\n",
       "    </tr>\n",
       "  </tbody>\n",
       "</table>\n",
       "</div>"
      ],
      "text/plain": [
       "  Year=2010                                       Race\n",
       "0    42.45%                                      White\n",
       "1     37.9%                         Non-Hispanic White\n",
       "2    40.96%                  Black or African American\n",
       "3     5.07%                             Asian American\n",
       "4     0.51%                            Native American\n",
       "5     0.07%  Native Hawaiian or Other Pacific Islander\n",
       "6     8.28%                            some other race\n",
       "7     2.66%                          two or more races\n",
       "8    14.22%            Hispanic or Latino of any race "
      ]
     },
     "execution_count": 65,
     "metadata": {},
     "output_type": "execute_result"
    }
   ],
   "source": [
    "durham_demo"
   ]
  },
  {
   "cell_type": "markdown",
   "metadata": {},
   "source": [
    "### Demographic Information of the Various Towns in Wakecounty"
   ]
  },
  {
   "cell_type": "code",
   "execution_count": null,
   "metadata": {},
   "outputs": [],
   "source": []
  },
  {
   "cell_type": "markdown",
   "metadata": {},
   "source": [
    "### Get Geolocation for each of the cities and towns within Wake county"
   ]
  },
  {
   "cell_type": "code",
   "execution_count": 1,
   "metadata": {},
   "outputs": [
    {
     "name": "stdout",
     "output_type": "stream",
     "text": [
      "Libraries imported.\n"
     ]
    }
   ],
   "source": [
    "import numpy as np # library to handle data in a vectorized manner\n",
    "\n",
    "import pandas as pd # library for data analsysis\n",
    "pd.set_option('display.max_columns', None)\n",
    "pd.set_option('display.max_rows', None)\n",
    "\n",
    "import json # library to handle JSON files\n",
    "\n",
    "#!conda install -c conda-forge geopy --yes # uncomment this line if you haven't completed the Foursquare API lab\n",
    "from geopy.geocoders import Nominatim # convert an address into latitude and longitude values\n",
    "\n",
    "import requests # library to handle requests\n",
    "from pandas.io.json import json_normalize # tranform JSON file into a pandas dataframe\n",
    "\n",
    "# Matplotlib and associated plotting modules\n",
    "import matplotlib.cm as cm\n",
    "import matplotlib.colors as colors\n",
    "\n",
    "# import k-means from clustering stage\n",
    "from sklearn.cluster import KMeans\n",
    "\n",
    "#!conda install -c conda-forge folium=0.5.0 --yes # uncomment this line if you haven't completed the Foursquare API lab\n",
    "import folium # map rendering library\n",
    "\n",
    "print('Libraries imported.')"
   ]
  },
  {
   "cell_type": "code",
   "execution_count": 7,
   "metadata": {},
   "outputs": [
    {
     "name": "stdout",
     "output_type": "stream",
     "text": [
      "The geograpical coordinate of Durham,NC are 36.0181316, -78.8751582.\n",
      "The geograpical coordinate of Raleigh,NC are 35.7803977, -78.6390989.\n",
      "The geograpical coordinate of Angier,NC are 35.5071045, -78.7391813.\n",
      "The geograpical coordinate of Apex are 35.7325352, -78.8505516.\n",
      "The geograpical coordinate of Cary are 35.7883046, -78.7811964.\n",
      "The geograpical coordinate of fuquay varina are 35.61551875, -78.8164514666885.\n",
      "The geograpical coordinate of Garner are 35.7112642, -78.6141709.\n",
      "The geograpical coordinate of Holly Springs are 35.6512655, -78.8336218.\n",
      "The geograpical coordinate of Knightdale are 35.7878975, -78.4822938.\n",
      "The geograpical coordinate of Morrisville are 35.824341, -78.8300321.\n",
      "The geograpical coordinate of Rolesville are 35.9232862, -78.4573914.\n",
      "The geograpical coordinate of Wakeforest are 39.162885, -77.2125309.\n",
      "The geograpical coordinate of Wendell are 35.780987, -78.3697213.\n",
      "The geograpical coordinate of Zebulon are 35.8243208, -78.3147199.\n"
     ]
    }
   ],
   "source": [
    "Cities=['Durham,NC','Raleigh,NC']\n",
    "Towns=['Angier,NC','Apex','Cary','fuquay varina','Garner','Holly Springs','Knightdale','Morrisville','Rolesville','Wakeforest','Wendell','Zebulon']\n",
    "for city in Cities:\n",
    "    geolocator = Nominatim(user_agent=\"CapstoneProject\")\n",
    "    location = geolocator.geocode(city)\n",
    "    latitude = location.latitude\n",
    "    longitude = location.longitude\n",
    "    print('The geograpical coordinate of '+city+' are {}, {}.'.format(latitude, longitude))\n",
    "    # create map of Toronto using latitude and longitude values\n",
    "    # map_Toronto = folium.Map(location=[latitude, longitude], zoom_start=10)\n",
    "for town in Towns:\n",
    "    geolocator = Nominatim(user_agent=\"CapstoneProject\")\n",
    "    location = geolocator.geocode(town)\n",
    "    latitude = location.latitude\n",
    "    longitude = location.longitude\n",
    "    print('The geograpical coordinate of '+town+' are {}, {}.'.format(latitude, longitude))\n"
   ]
  },
  {
   "cell_type": "code",
   "execution_count": null,
   "metadata": {},
   "outputs": [],
   "source": []
  }
 ],
 "metadata": {
  "kernelspec": {
   "display_name": "Python 3",
   "language": "python",
   "name": "python3"
  },
  "language_info": {
   "codemirror_mode": {
    "name": "ipython",
    "version": 3
   },
   "file_extension": ".py",
   "mimetype": "text/x-python",
   "name": "python",
   "nbconvert_exporter": "python",
   "pygments_lexer": "ipython3",
   "version": "3.7.1"
  }
 },
 "nbformat": 4,
 "nbformat_minor": 2
}
